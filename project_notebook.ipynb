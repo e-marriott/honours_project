{
 "cells": [
  {
   "cell_type": "markdown",
   "metadata": {
    "toc": true
   },
   "source": [
    "<h1>Table of Contents<span class=\"tocSkip\"></span></h1>\n",
    "<div class=\"toc\"><ul class=\"toc-item\"><li><span><a href=\"#Finding-genome-coordinates-for-MaxQuant-Derived-Peptides\" data-toc-modified-id=\"Finding-genome-coordinates-for-MaxQuant-Derived-Peptides-1\"><span class=\"toc-item-num\">1&nbsp;&nbsp;</span>Finding genome coordinates for MaxQuant Derived Peptides</a></span><ul class=\"toc-item\"><li><span><a href=\"#Retreiving-Indexes-and-Information-from-a-CSV-file\" data-toc-modified-id=\"Retreiving-Indexes-and-Information-from-a-CSV-file-1.1\"><span class=\"toc-item-num\">1.1&nbsp;&nbsp;</span>Retreiving Indexes and Information from a CSV file</a></span></li><li><span><a href=\"#Preparing-relevant-data-for-running-a-command-line-tBLASTn-search-against-the-Tb927-genome\" data-toc-modified-id=\"Preparing-relevant-data-for-running-a-command-line-tBLASTn-search-against-the-Tb927-genome-1.2\"><span class=\"toc-item-num\">1.2&nbsp;&nbsp;</span>Preparing relevant data for running a command line tBLASTn search against the Tb927 genome</a></span></li><li><span><a href=\"#Command-Line-tBLASTn-code\" data-toc-modified-id=\"Command-Line-tBLASTn-code-1.3\"><span class=\"toc-item-num\">1.3&nbsp;&nbsp;</span>Command Line tBLASTn code</a></span></li><li><span><a href=\"#Handling-BLAST-output\" data-toc-modified-id=\"Handling-BLAST-output-1.4\"><span class=\"toc-item-num\">1.4&nbsp;&nbsp;</span>Handling BLAST output</a></span></li><li><span><a href=\"#Comparison-of-orginal-(MaxQuant)-and-new-(tBLASTn)-results\" data-toc-modified-id=\"Comparison-of-orginal-(MaxQuant)-and-new-(tBLASTn)-results-1.5\"><span class=\"toc-item-num\">1.5&nbsp;&nbsp;</span>Comparison of orginal (MaxQuant) and new (tBLASTn) results</a></span></li></ul></li><li><span><a href=\"#Reveiwing-Mass-Spec-data-(MaxQuant)\" data-toc-modified-id=\"Reveiwing-Mass-Spec-data-(MaxQuant)-2\"><span class=\"toc-item-num\">2&nbsp;&nbsp;</span>Reveiwing Mass Spec data (MaxQuant)</a></span><ul class=\"toc-item\"><li><span><a href=\"#Retreiving-relevant-Information-for-new-protein-coding-genes\" data-toc-modified-id=\"Retreiving-relevant-Information-for-new-protein-coding-genes-2.1\"><span class=\"toc-item-num\">2.1&nbsp;&nbsp;</span>Retreiving relevant Information for new protein coding genes</a></span></li></ul></li></ul></div>"
   ]
  },
  {
   "cell_type": "code",
   "execution_count": null,
   "metadata": {},
   "outputs": [],
   "source": [
    "import pandas as pd\n",
    "import Bio as bio\n",
    "import matplotlib.pyplot as plt"
   ]
  },
  {
   "cell_type": "markdown",
   "metadata": {},
   "source": [
    "# Finding genome coordinates for MaxQuant Derived Peptides\n",
    "\n",
    "\n"
   ]
  },
  {
   "cell_type": "markdown",
   "metadata": {},
   "source": [
    "MaxQuant was used to identify predicted new peptides and map them to the T brucei 927 (Tb927) genome available at TriTrypDB, with the intention of using these genomic coordinates to discover new protein coding gene regions. We wished to verify the genomic coordinates output from MaxQuant by re-mapping the peptides onto a newer version of the Tb927 genome (version 48) using a tBLASTn set-up"
   ]
  },
  {
   "cell_type": "markdown",
   "metadata": {},
   "source": [
    "## Retreiving Indexes and Information from a CSV file"
   ]
  },
  {
   "cell_type": "markdown",
   "metadata": {},
   "source": [
    "For MaxQuant output (predicted_new_pe.csv) column numbers for peptide reference (pep_ref), gene name, and ID number were retrieved. A function to retrieve information on a requested feature was defined"
   ]
  },
  {
   "cell_type": "code",
   "execution_count": null,
   "metadata": {},
   "outputs": [],
   "source": [
    "my_file = open('predicted_new_pep.csv', 'r')\n",
    "\n",
    "def get_index(infile, feature):\n",
    "    headers = (infile.readline()).split(',')\n",
    "    index = headers.index(feature)\n",
    "    infile.seek(0)\n",
    "    return index\n",
    "\n",
    "pep_ref_index = get_index(my_file, 'pep_ref')\n",
    "name_index = get_index(my_file, 'name')\n",
    "ID_index = get_index(my_file, '')\n",
    "\n",
    "my_file.close()\n",
    "\n"
   ]
  },
  {
   "cell_type": "markdown",
   "metadata": {},
   "source": [
    "For each row in predicted_new_pep.csv file pep_ref was retrieved. Peptide sequence was stored as a dictionary key (ensures unique peptides only) with corresponding value as an appropriate identifying fasta title (>pep{ID number}_{gene name}) "
   ]
  },
  {
   "cell_type": "code",
   "execution_count": null,
   "metadata": {},
   "outputs": [],
   "source": [
    "my_file = open('predicted_new_pep.csv', 'r')\n",
    "\n",
    "all_peptides = []\n",
    "pep_dict = {}\n",
    "\n",
    "\n",
    "for line_number, line in enumerate(my_file):\n",
    "    if line_number >0:                              #skip over column headers\n",
    "        listed = line.split(',')                    #split line into list of values for each column entry\n",
    "        pep_details = (listed[pep_ref_index]).split('-')  #splits up pep_ref entry to allow only peptide sequence to be selected\n",
    "        peptide = pep_details[5]                    #select just sequence\n",
    "        gene_name = (listed[name_index])            #retrieve gene name... \n",
    "        num_ID = (listed[ID_index])                 #...and ID number for identifying once in fasta format\n",
    "        fasta_title = '>pep{}_{}'.format(num_ID,gene_name) #create header for fasta with ID number and name\n",
    "        all_peptides.append(peptide)                #store all peptides as a list, in order to have for future reference\n",
    "        pep_dict[peptide] = fasta_title             #dict_key is peptide sequence, dict_value is fasta header\n",
    "\n",
    "print(len(all_peptides))  #double check to ensure non unique peptides have been removed\n",
    "print(len(pep_dict))\n",
    "\n",
    "\n",
    "my_file.close()\n"
   ]
  },
  {
   "cell_type": "markdown",
   "metadata": {},
   "source": [
    "## Preparing relevant data for running a command line tBLASTn search against the Tb927 genome"
   ]
  },
  {
   "cell_type": "markdown",
   "metadata": {},
   "source": [
    "Contents of the unique peptides dictionary was written out into a file in fasta format (>title \\n peptide sequence)"
   ]
  },
  {
   "cell_type": "code",
   "execution_count": null,
   "metadata": {},
   "outputs": [],
   "source": [
    "fasta_out = open('pep_ref_all.fa', 'w')\n",
    "\n",
    "for entry in pep_dict.keys():\n",
    "    fasta_out.write(pep_dict[entry]+'\\n')  #write fasta header\n",
    "    fasta_out.write(entry+'\\n')            #write peptide sequence\n",
    "\n",
    "fasta_out.close()\n"
   ]
  },
  {
   "cell_type": "markdown",
   "metadata": {},
   "source": [
    "Fasta sequences were split into long (>20aa) and short (<20aa) sequences and saved in different files so as to run tBLASTn with different parameters for short/long peptides. "
   ]
  },
  {
   "cell_type": "code",
   "execution_count": null,
   "metadata": {},
   "outputs": [],
   "source": [
    "fasta_out_longpeps = open('pep_ref_long.fa', 'w')\n",
    "fasta_out_shortpeps = open('pep_ref_short.fa', 'w')\n",
    "\n",
    "for entry in pep_dict.keys():\n",
    "    if len(entry)>=20:\n",
    "        fasta_out_longpeps.write(pep_dict[entry]+'\\n')  #write fasta header\n",
    "        fasta_out_longpeps.write(entry+'\\n')            #write peptide sequence\n",
    "    if len(entry)<20:\n",
    "        fasta_out_shortpeps.write(pep_dict[entry]+'\\n')  #write fasta header\n",
    "        fasta_out_shortpeps.write(entry+'\\n')            #write peptide sequence\n",
    "        \n",
    "fasta_out_longpeps.close()\n",
    "fasta_out_shortpeps.close()\n",
    "\n"
   ]
  },
  {
   "cell_type": "markdown",
   "metadata": {},
   "source": [
    "## Command Line tBLASTn code\n"
   ]
  },
  {
   "cell_type": "markdown",
   "metadata": {},
   "source": [
    "The tBLASTn set-up itself was run scripted with bash. The database 927_genome was assembled  using the script below from the whole genome fasta file downloaded from TriTrypDB. Both this raw file and the resulting databse files (927_genome.nhr, 927_genome.nin and 927_genome.nsqr) are available in the associated Git repository"
   ]
  },
  {
   "cell_type": "code",
   "execution_count": null,
   "metadata": {},
   "outputs": [],
   "source": [
    "%%bash\n",
    "\n",
    "#!/bin/bash\n",
    "\n",
    "#$ -cwd\n",
    "\n",
    "makeblastdb -in TriTrypDB-48_TbruceiTREU927_Genome.fasta -out 927_genome -dbtype nucl\n",
    "\n"
   ]
  },
  {
   "cell_type": "markdown",
   "metadata": {},
   "source": [
    "Long sequences"
   ]
  },
  {
   "cell_type": "code",
   "execution_count": null,
   "metadata": {},
   "outputs": [],
   "source": [
    "%%bash\n",
    "\n",
    "#!/bin/bash\n",
    "\n",
    "#$ -cwd\n",
    "\n",
    "tblastn -query pep_ref_long.fa -db 927_genome -out results_pep_ref_long.csv -outfmt '10 qseqid qseq sseqid pident qlen qstart qend sstart send frames positive mismatch gaps evalue bitscore'"
   ]
  },
  {
   "cell_type": "markdown",
   "metadata": {},
   "source": [
    "Short sequences"
   ]
  },
  {
   "cell_type": "code",
   "execution_count": null,
   "metadata": {},
   "outputs": [],
   "source": [
    "%%bash\n",
    "\n",
    "#!/bin/bash\n",
    "\n",
    "#$ -cwd\n",
    "\n",
    "tblastn -query pep_ref_short.fa -db 927_genome -out results_pep_ref_short.csv -evalue 100 -word_size 2 -gapopen 9 -gapextend 1 -matrix PAM30 -threshold 16 -comp_based_stats 0 -window_size 15 -outfmt '10 qseqid qseq sseqid pident qlen qstart qend sstart send frames positive mismatch gaps evalue bitscore'"
   ]
  },
  {
   "cell_type": "markdown",
   "metadata": {},
   "source": [
    "## Handling BLAST output"
   ]
  },
  {
   "cell_type": "markdown",
   "metadata": {},
   "source": [
    "tBLASTn output was reformatted to include headers for columns, saving in new files results_withheaders_long.csv and results_withheaders_short.csv\n"
   ]
  },
  {
   "cell_type": "code",
   "execution_count": null,
   "metadata": {},
   "outputs": [],
   "source": [
    "#defining function\n",
    "\n",
    "def write_headers(infile,outfile):\n",
    "    outfile.write(\"name,query_peptide,subject,%ID,query_length,q_start,q_end,s_start,s_end,frames(q/s),num_positives,num_mismatches,num_gaps,evalue,bitscore\")\n",
    "    for line in infile:\n",
    "        outfile.write(line)\n",
    "    return None\n",
    "\n",
    "#apply for both long and short results\n",
    "\n",
    "results_short = open('results_pep_ref_short.csv', 'r')\n",
    "results_long= open('results_pep_ref_long.csv', 'r')\n",
    "\n",
    "headers_short = open('results_withheaders_short.csv', 'w')\n",
    "headers_long = open('results_withheaders_long.csv', 'w')\n",
    "\n",
    "write_headers(results_short,headers_short)\n",
    "write_headers(results_long,headers_long)\n",
    "\n",
    "\n",
    "results_short.close()\n",
    "results_long.close()\n",
    "headers_short.close()\n",
    "headers_long.close()\n",
    "\n"
   ]
  },
  {
   "cell_type": "markdown",
   "metadata": {},
   "source": [
    "Only matches with 100% ID were selected (again storing in new files so as to maintain original files in case needed in future)"
   ]
  },
  {
   "cell_type": "code",
   "execution_count": null,
   "metadata": {},
   "outputs": [],
   "source": [
    "#defining function\n",
    "def select_best(infile, outfile):\n",
    "    for line in infile:\n",
    "        ID = (line.split(',')).index('%ID')\n",
    "        outfile.write(line)\n",
    "        break\n",
    "\n",
    "    for line in infile:\n",
    "        columns=line.split(',')\n",
    "        if float(columns[ID]) == 100:\n",
    "            outfile.write(line)\n",
    "    return None\n",
    "\n",
    "#long peptides\n",
    "results = open('results_withheaders_long.csv', 'r')\n",
    "best_matches = open('results_long_bestID.csv', 'w')\n",
    "select_best(results,best_matches)\n",
    "               \n",
    "results.close()\n",
    "best_matches.close()\n",
    "\n",
    "#short peptides - the above function was not used as another condition was included: \n",
    "#that the match was covering the entire query length, \n",
    "#as the parameters used for short sequences can often provide incomplete matches\n",
    "\n",
    "results = open('results_withheaders_short.csv', 'r')\n",
    "best_matches = open('results_short_bestID.csv', 'w')\n",
    "\n",
    "for line in results:\n",
    "        end = (line.split(',')).index('q_end')\n",
    "        start = (line.split(',')).index('q_start')\n",
    "        length= (line.split(',')).index('query_length')\n",
    "        ID = (line.split(',')).index('%ID')\n",
    "        best_matches.write(line)\n",
    "        break\n",
    "\n",
    "for line in results:\n",
    "        columns=line.split(',')\n",
    "        if float(columns[ID]) == 100 and ((float(columns[length])-1))<= (float(columns[end])-float(columns[start])):\n",
    "            best_matches.write(line)\n",
    "\n",
    "results.close()\n",
    "best_matches.close()      \n",
    "        "
   ]
  },
  {
   "cell_type": "markdown",
   "metadata": {},
   "source": [
    "## Comparison of orginal (MaxQuant) and new (tBLASTn) results"
   ]
  },
  {
   "cell_type": "code",
   "execution_count": null,
   "metadata": {},
   "outputs": [],
   "source": [
    "#retreive the ID numbers of the peptides that were analysed\n",
    "\n",
    "pep_dict_IDs = []       \n",
    "for entry in pep_dict.values():     #instead of opening original file again, unique peptides dictionary can be used..\n",
    "    end_ID = entry.index('_')       #...as these peptides were actually analysed after filtering out non-unique\n",
    "    pep_dict_IDs.append(entry[4:end_ID])  \n",
    "\n",
    "    \n",
    "    \n",
    "#obtain the original coordinates (generated by MaxQuant) of the peptides analysed, \n",
    "#storing in dictionary to ensure only unique peptides again and keep ID numbers and coordinates properly associated\n",
    "\n",
    "old_results = open('predicted_new_pep.csv', 'r')\n",
    "\n",
    "results_sorted = {}\n",
    "\n",
    "for line_number, line in enumerate(old_results):      \n",
    "    if line_number >0:\n",
    "        data = line.strip().split(',')\n",
    "        coord = '{}:{}..{}'.format(data[1],data[12],data[13])\n",
    "        pep_details = (data[14]).split('-')  \n",
    "        peptide = pep_details[5]\n",
    "        ID = data[0]\n",
    "        gene_name= data[4]\n",
    "        if ID in pep_dict_IDs:\n",
    "            results_sorted[data[0]] = [gene_name, peptide, coord]\n",
    "        else:\n",
    "            continue\n",
    "               \n",
    "old_results.close()\n",
    "\n",
    "\n",
    "#Combining original and new results (for both long and short peptides) by peptide ID,\n",
    "#saving in new 'results_by_ID_compared.csv' file by first creating results_sorted dictionary \n",
    "               \n",
    "def combine_by_ID(infile):\n",
    "    \n",
    "    for line_number, line in enumerate(infile):\n",
    "        if line_number >0: \n",
    "            data = line.strip().split(',')\n",
    "            ID = ((data[0].split('_'))[0]).strip(' pep')\n",
    "            if not ID in results_sorted :\n",
    "                results_sorted[ID] = []\n",
    "            if data[7]<data[8]:\n",
    "                results_sorted[ID].append('{}:{}..{}'.format(data[2],data[7],data[8]))\n",
    "            elif data[8]<data[7]:\n",
    "                results_sorted[ID].append('{}:{}..{}'.format(data[2],data[8],data[7]))\n",
    "    return results_sorted\n",
    "\n",
    "          \n",
    "results_long = open('results_withheaders_long.csv', 'r')\n",
    "results_short = open('results_short_bestID.csv', 'r')\n",
    "\n",
    "combine_by_ID(results_long)\n",
    "combine_by_ID(results_short)\n",
    "\n",
    "results_long.close()\n",
    "results_short.close()\n",
    "\n",
    "#writing out to file\n",
    "#checking if theres a match between original and new coordinates\n",
    "\n",
    "results_by_ID = open('results_by_ID_compared.csv', 'w')\n",
    "\n",
    "results_by_ID.write(\"ID,gene,peptide,original_coordinates,matching,blast_outputs \\n\")\n",
    "\n",
    "for entry in results_sorted:\n",
    "    ID = entry\n",
    "    gene_name = str(results_sorted[entry][0]).strip('[')\n",
    "    peptide = str(results_sorted[entry][1])\n",
    "    orig_coord = results_sorted[entry][2]\n",
    "    blast = results_sorted[entry][3::]\n",
    "    if orig_coord in blast:\n",
    "        matching = 'MATCH'\n",
    "    else:\n",
    "        matching = 'DIFFERENT'\n",
    "    results_by_ID.write('{},{},{},{},{},\"{}\"\\n'.format(ID,gene_name,peptide,orig_coord,matching,blast)) \n",
    "    \n",
    "\n",
    "results_by_ID.close()"
   ]
  },
  {
   "cell_type": "markdown",
   "metadata": {},
   "source": [
    "# Reveiwing Mass Spec data (MaxQuant)\n",
    "\n"
   ]
  },
  {
   "cell_type": "markdown",
   "metadata": {},
   "source": [
    "The data produced by MaxQuant was reviewed to manually assess if the evidence is strong enough for the peptide identities assigned by the program"
   ]
  },
  {
   "cell_type": "markdown",
   "metadata": {},
   "source": [
    "## Retreiving relevant Information for new protein coding genes"
   ]
  },
  {
   "cell_type": "markdown",
   "metadata": {},
   "source": [
    "Relevant information (score, delta score, PEP, raw file) for our new coding genes was retrieved from files of MS evidence. As the raw files are too large to be added to the associated Git repository, they can be downloaded locally using the cURL commands in the following 2 cells.\n",
    "Additionally, it was annotated if the peptides are observed in Blood Stream Form (BSF) or Procyclic Form (PCF) parasite lifecycle stages"
   ]
  },
  {
   "cell_type": "code",
   "execution_count": null,
   "metadata": {},
   "outputs": [],
   "source": [
    "#PCF file\n",
    "\n",
    "!curl 'https://dmail-my.sharepoint.com/personal/mtinti_dundee_ac_uk/_layouts/15/download.aspx?SourceUrl=%2Fpersonal%2Fmtinti%5Fdundee%5Fac%5Fuk%2FDocuments%2Fmaster%5Fproject%5Flizzie%2FMS%2Fevidence%5Fpcf%2Ezip' \\\n",
    "  -H 'Connection: keep-alive' \\\n",
    "  -H 'sec-ch-ua: \"Google Chrome\";v=\"87\", \" Not;A Brand\";v=\"99\", \"Chromium\";v=\"87\"' \\\n",
    "  -H 'sec-ch-ua-mobile: ?0' \\\n",
    "  -H 'Upgrade-Insecure-Requests: 1' \\\n",
    "  -H 'DNT: 1' \\\n",
    "  -H 'User-Agent: Mozilla/5.0 (Macintosh; Intel Mac OS X 10_13_6) AppleWebKit/537.36 (KHTML, like Gecko) Chrome/87.0.4280.88 Safari/537.36' \\\n",
    "  -H 'Accept: text/html,application/xhtml+xml,application/xml;q=0.9,image/avif,image/webp,image/apng,*/*;q=0.8,application/signed-exchange;v=b3;q=0.9' \\\n",
    "  -H 'Service-Worker-Navigation-Preload: true' \\\n",
    "  -H 'Sec-Fetch-Site: same-origin' \\\n",
    "  -H 'Sec-Fetch-Mode: navigate' \\\n",
    "  -H 'Sec-Fetch-User: ?1' \\\n",
    "  -H 'Sec-Fetch-Dest: document' \\\n",
    "  -H 'Referer: https://dmail-my.sharepoint.com/personal/mtinti_dundee_ac_uk/_layouts/15/onedrive.aspx?id=%2Fpersonal%2Fmtinti%5Fdundee%5Fac%5Fuk%2FDocuments%2Fmaster%5Fproject%5Flizzie%2FMS%2Fevidence%5Fpcf%2Ezip&parent=%2Fpersonal%2Fmtinti%5Fdundee%5Fac%5Fuk%2FDocuments%2Fmaster%5Fproject%5Flizzie%2FMS' \\\n",
    "  -H 'Accept-Language: en-US,en;q=0.9,it;q=0.8' \\\n",
    "  -H 'Cookie: MicrosoftApplicationsTelemetryDeviceId=d5c68e82-a582-4578-859f-783ec8a2ce20; MicrosoftApplicationsTelemetryFirstLaunchTime=2020-12-17T17:30:25.426Z; WordWacDataCenter=GUK1; WacDataCenter=GUK1; rtFa=irlrX2saO25ge/DfrhXLIZkMAY5SZ8Woc/v/wO33fCgmN0Y2NTRGMkMtODBEQS00NENBLUIwN0YtM0FCNDREREQ1QkEzQoKU/vFZqSq5NViWSrXANugJgoJO3jG2Uzt+dfjDSuRaTuzhj6/9sJRnv4YtW0QliwY7ZDTdKDIy7il/bPLSeEyM+ZJdeinNnbZqpI9nWSV12JPLaRMqbDxVb6BoyYab9oh+grTgh2QMP+VHfm83J5P+rhisjDj+uWAIRScIUIWu7rbViOopervSx5t46rBIfOIZU1akZU4/yzhfT9e8ub2gu3v/NpsKGjOdUjg4rxQdlk+OR5aOE2YaD7Q1VvLpbn61Dx3LL7xpgi2O5q4OLwmZ7IBTmj1bQTAJFH3dc1nkYEG0lWkNxSL1h1E1znzoBhuNv8jEW1ZsiKoU4CovRkUAAAA=; FedAuth=77u/PD94bWwgdmVyc2lvbj0iMS4wIiBlbmNvZGluZz0idXRmLTgiPz48U1A+VjgsMGguZnxtZW1iZXJzaGlwfDEwMDM3ZmZlODBhYzg4NThAbGl2ZS5jb20sMCMuZnxtZW1iZXJzaGlwfG10aW50aUBkdW5kZWUuYWMudWssMTMyNTI1OTAwNDcwMDAwMDAwLDEzMjI3NzM2OTkzMDAwMDAwMCwxMzI1Mjc4NjEwNzU2MTMzOTcsMTM0LjM2LjIyMy4yNDAsMiw3ZjY1NGYyYy04MGRhLTQ0Y2EtYjA3Zi0zYWI0NGRkZDViYTMsLGQ1YzJjMDljLTFjNjgtNDg0Zi05ZDdkLTg1MmRhZjZiNDNmMCwxMGJlZTE1NC1iYjljLTQzMWMtYmFiMS0wZWYyMGQ1MTY1NmEsMTBiZWUxNTQtYmI5Yy00MzFjLWJhYjEtMGVmMjBkNTE2NTZhLCwwLDEzMjUyNzAzMzA3NTMwMDg1OCwxMzI1Mjk1ODkwNzUzMDA4NTgsLCxleUo0YlhOZlkyTWlPaUpiWENKRFVERmNJbDBpZlE9PSwyNjUwNDY3NzQzOTk5OTk5OTk5LDEzMjUyNjk5NzA3MDAwMDAwMCw3OGM1MTQyYi1iODVhLTQ5NzItYjc4ZS03NmU3MTFlN2QwODYsQTB4cmhXdmFldHd1dnBaU3BMMHdON1YrakV5M1NqckNZeEx5S01HU1JpdGo4QnVzU3FLbHdMcnhJQ0FtY2NJRUEvUVVKS2N1UlBRd2h3T3BEYjExQkh2aXpJQnZ5ZUFBV1VacHVqeXZhMkw5Q0pnWlRQVnhJWHV4bDRXYVNxRkNqYXVrcEM4OEdBNVY1QmVtYmRFME54UDdRKzUzVFJXek9JVnZZOHhPUGQwdklDZW5iL3R1dGxlWFUrL1FsTVl1REhhWnB4bG5lZjhXdEtTTitVTmFBWXVmdjJaWXZrQ3JFS0pPenpxNDJMZU9mNy93aE5FZEo4MDZyWFNpMlB1ZDhxV25oZVV4a2JOdEU1RklyT2NCcTVVazFQalFnQ2haS3RxWlFvdyt3aVk1anJZeUwzdDhxVnMvKy9uNkJYR1ptNlQxUXJDaHorSS9aK0pMOUtheitBPT08L1NQPg==; odbn=1; cucg=1' \\\n",
    "  --compressed --output evidence_pcf.zip"
   ]
  },
  {
   "cell_type": "code",
   "execution_count": null,
   "metadata": {},
   "outputs": [],
   "source": [
    "#BSF file\n",
    "\n",
    "!curl 'https://dmail-my.sharepoint.com/personal/mtinti_dundee_ac_uk/_layouts/15/download.aspx?SourceUrl=%2Fpersonal%2Fmtinti%5Fdundee%5Fac%5Fuk%2FDocuments%2Fmaster%5Fproject%5Flizzie%2FMS%2Fevidence%5Fbsf%2Ezip' \\\n",
    "  -H 'authority: dmail-my.sharepoint.com' \\\n",
    "  -H 'sec-ch-ua: \"Google Chrome\";v=\"87\", \" Not;A Brand\";v=\"99\", \"Chromium\";v=\"87\"' \\\n",
    "  -H 'sec-ch-ua-mobile: ?0' \\\n",
    "  -H 'upgrade-insecure-requests: 1' \\\n",
    "  -H 'dnt: 1' \\\n",
    "  -H 'user-agent: Mozilla/5.0 (Macintosh; Intel Mac OS X 10_13_6) AppleWebKit/537.36 (KHTML, like Gecko) Chrome/87.0.4280.88 Safari/537.36' \\\n",
    "  -H 'accept: text/html,application/xhtml+xml,application/xml;q=0.9,image/avif,image/webp,image/apng,*/*;q=0.8,application/signed-exchange;v=b3;q=0.9' \\\n",
    "  -H 'service-worker-navigation-preload: true' \\\n",
    "  -H 'sec-fetch-site: same-origin' \\\n",
    "  -H 'sec-fetch-mode: navigate' \\\n",
    "  -H 'sec-fetch-user: ?1' \\\n",
    "  -H 'sec-fetch-dest: document' \\\n",
    "  -H 'referer: https://dmail-my.sharepoint.com/personal/mtinti_dundee_ac_uk/_layouts/15/onedrive.aspx?id=%2Fpersonal%2Fmtinti%5Fdundee%5Fac%5Fuk%2FDocuments%2Fmaster%5Fproject%5Flizzie%2FMS%2Fevidence%5Fbsf%2Ezip&parent=%2Fpersonal%2Fmtinti%5Fdundee%5Fac%5Fuk%2FDocuments%2Fmaster%5Fproject%5Flizzie%2FMS&originalPath=aHR0cHM6Ly9kbWFpbC1teS5zaGFyZXBvaW50LmNvbS86dTovZy9wZXJzb25hbC9tdGludGlfZHVuZGVlX2FjX3VrL0VVV3NZTk5fYy1sRWtHS1ZFcUstemhBQlZteWk1TUs3YWNGVFlnXzVrQngwd1E_cnRpbWU9N0gzZVJMR2kyRWc' \\\n",
    "  -H 'accept-language: en-US,en;q=0.9,it;q=0.8' \\\n",
    "  -H 'cookie: MicrosoftApplicationsTelemetryDeviceId=d5c68e82-a582-4578-859f-783ec8a2ce20; MicrosoftApplicationsTelemetryFirstLaunchTime=2020-12-17T17:30:25.426Z; WordWacDataCenter=GUK1; WacDataCenter=GUK1; rtFa=irlrX2saO25ge/DfrhXLIZkMAY5SZ8Woc/v/wO33fCgmN0Y2NTRGMkMtODBEQS00NENBLUIwN0YtM0FCNDREREQ1QkEzQoKU/vFZqSq5NViWSrXANugJgoJO3jG2Uzt+dfjDSuRaTuzhj6/9sJRnv4YtW0QliwY7ZDTdKDIy7il/bPLSeEyM+ZJdeinNnbZqpI9nWSV12JPLaRMqbDxVb6BoyYab9oh+grTgh2QMP+VHfm83J5P+rhisjDj+uWAIRScIUIWu7rbViOopervSx5t46rBIfOIZU1akZU4/yzhfT9e8ub2gu3v/NpsKGjOdUjg4rxQdlk+OR5aOE2YaD7Q1VvLpbn61Dx3LL7xpgi2O5q4OLwmZ7IBTmj1bQTAJFH3dc1nkYEG0lWkNxSL1h1E1znzoBhuNv8jEW1ZsiKoU4CovRkUAAAA=; FedAuth=77u/PD94bWwgdmVyc2lvbj0iMS4wIiBlbmNvZGluZz0idXRmLTgiPz48U1A+VjgsMGguZnxtZW1iZXJzaGlwfDEwMDM3ZmZlODBhYzg4NThAbGl2ZS5jb20sMCMuZnxtZW1iZXJzaGlwfG10aW50aUBkdW5kZWUuYWMudWssMTMyNTI1OTAwNDcwMDAwMDAwLDEzMjI3NzM2OTkzMDAwMDAwMCwxMzI1Mjc4NjEwNzU2MTMzOTcsMTM0LjM2LjIyMy4yNDAsMiw3ZjY1NGYyYy04MGRhLTQ0Y2EtYjA3Zi0zYWI0NGRkZDViYTMsLGQ1YzJjMDljLTFjNjgtNDg0Zi05ZDdkLTg1MmRhZjZiNDNmMCwxMGJlZTE1NC1iYjljLTQzMWMtYmFiMS0wZWYyMGQ1MTY1NmEsMTBiZWUxNTQtYmI5Yy00MzFjLWJhYjEtMGVmMjBkNTE2NTZhLCwwLDEzMjUyNzAzMzA3NTMwMDg1OCwxMzI1Mjk1ODkwNzUzMDA4NTgsLCxleUo0YlhOZlkyTWlPaUpiWENKRFVERmNJbDBpZlE9PSwyNjUwNDY3NzQzOTk5OTk5OTk5LDEzMjUyNjk5NzA3MDAwMDAwMCw3OGM1MTQyYi1iODVhLTQ5NzItYjc4ZS03NmU3MTFlN2QwODYsQTB4cmhXdmFldHd1dnBaU3BMMHdON1YrakV5M1NqckNZeEx5S01HU1JpdGo4QnVzU3FLbHdMcnhJQ0FtY2NJRUEvUVVKS2N1UlBRd2h3T3BEYjExQkh2aXpJQnZ5ZUFBV1VacHVqeXZhMkw5Q0pnWlRQVnhJWHV4bDRXYVNxRkNqYXVrcEM4OEdBNVY1QmVtYmRFME54UDdRKzUzVFJXek9JVnZZOHhPUGQwdklDZW5iL3R1dGxlWFUrL1FsTVl1REhhWnB4bG5lZjhXdEtTTitVTmFBWXVmdjJaWXZrQ3JFS0pPenpxNDJMZU9mNy93aE5FZEo4MDZyWFNpMlB1ZDhxV25oZVV4a2JOdEU1RklyT2NCcTVVazFQalFnQ2haS3RxWlFvdyt3aVk1anJZeUwzdDhxVnMvKy9uNkJYR1ptNlQxUXJDaHorSS9aK0pMOUtheitBPT08L1NQPg==; odbn=1; cucg=1' \\\n",
    "  --compressed --output evidence_bsf.zip"
   ]
  },
  {
   "cell_type": "code",
   "execution_count": null,
   "metadata": {},
   "outputs": [],
   "source": [
    "#read in the proteomic evidence data (relevant columns only) for BSF \n",
    "#add a 'lifecyle stage' column, set this to 'BSF' \n",
    "df_bsf = pd.read_csv('evidence_bsf.zip',sep='\\t', usecols = ['Sequence','Score','Delta score','PEP','Raw file'])\n",
    "df_bsf['Lifecycle Stage'] = 'BSF'\n",
    "\n",
    "#as above for PCF\n",
    "df_pcf = pd.read_csv('evidence_pcf.zip',sep='\\t', usecols = ['Sequence','Score','Delta score','PEP','Raw file'])\n",
    "df_pcf['Lifecycle Stage'] = 'PCF'\n",
    "\n",
    "#combine as one dataframe\n",
    "df_all = df_bsf.append(df_pcf)\n",
    "df_all"
   ]
  },
  {
   "cell_type": "code",
   "execution_count": null,
   "metadata": {},
   "outputs": [],
   "source": [
    "#from previous blast results, create dataframe of gene names and peptide sequences for genes of interest only\n",
    "\n",
    "genes_of_interest = ['TRY.375','MSTRG.94','KS17gene_8518a','KS17gene_7003a', 'KS17gene_6998a', \n",
    "                                     'KS17gene_6299a', 'KS17gene_265a', 'KS17gene_2338a', \n",
    "                                      'KS17gene_1898a']\n",
    "\n",
    "df_genes = pd.read_csv('results_by_ID_compared.csv', index_col=0)\n",
    "\n",
    "df_genes = df_genes[df_genes['gene'].isin(genes_of_interest)][['gene','peptide']]\n",
    "\n",
    "df_genes = df_genes.groupby('gene')['peptide'].apply(list).reset_index(name='peptides')\n",
    "\n",
    "df_genes\n"
   ]
  },
  {
   "cell_type": "code",
   "execution_count": null,
   "metadata": {},
   "outputs": [],
   "source": [
    "#create empty output data frame to append relevant information to\n",
    "\n",
    "df_output = pd.DataFrame(columns= ['Gene','Sequence','Score','Delta score','PEP','Raw file', 'Lifecycle Stage'])\n",
    "\n",
    "df_output"
   ]
  },
  {
   "cell_type": "code",
   "execution_count": null,
   "metadata": {},
   "outputs": [],
   "source": [
    "#for genes of interest (df_genes), retrieve relevent information from evidence dataframe (df_all)\n",
    "#df_all can be searched by peptide sequence, \n",
    "#so retrieve information for the peptides in the list under each gene in df_genes\n",
    "\n",
    "for index, row in df_genes.iterrows():\n",
    "    gene_name = row['gene']\n",
    "    df_all['Gene'] = gene_name\n",
    "    df_output = df_output.append(df_all[df_all['Sequence'].isin(row['peptides'])][\n",
    "        ['Gene','Sequence','Score','Delta score','PEP','Raw file', 'Lifecycle Stage']].sort_values('PEP').drop_duplicates('Sequence'))\n",
    "         #save in dataframe only the information and columns that are relevant to our analysis\n",
    "         #sort results by quality (low to high PEP) and remove non-unique peptides\n",
    "\n",
    "\n",
    "df_output.to_csv('ms_data.csv')  #save as csv file\n",
    "df_output"
   ]
  },
  {
   "cell_type": "markdown",
   "metadata": {
    "toc": true
   },
   "source": [
    "<h1>Table of Contents<span class=\"tocSkip\"></span></h1>\n",
    "<div class=\"toc\"><ul class=\"toc-item\"><li><span><a href=\"#Finding-genome-coordinates-for-MaxQuant-Derived-Peptides\" data-toc-modified-id=\"Finding-genome-coordinates-for-MaxQuant-Derived-Peptides-1\"><span class=\"toc-item-num\">1&nbsp;&nbsp;</span>Finding genome coordinates for MaxQuant Derived Peptides</a></span><ul class=\"toc-item\"><li><span><a href=\"#Retreiving-Indexes-and-Information-from-a-CSV-file\" data-toc-modified-id=\"Retreiving-Indexes-and-Information-from-a-CSV-file-1.1\"><span class=\"toc-item-num\">1.1&nbsp;&nbsp;</span>Retreiving Indexes and Information from a CSV file</a></span></li><li><span><a href=\"#Preparing-relevant-data-for-running-a-command-line-tBLASTn-search-against-the-Tb927-genome\" data-toc-modified-id=\"Preparing-relevant-data-for-running-a-command-line-tBLASTn-search-against-the-Tb927-genome-1.2\"><span class=\"toc-item-num\">1.2&nbsp;&nbsp;</span>Preparing relevant data for running a command line tBLASTn search against the Tb927 genome</a></span></li><li><span><a href=\"#Command-Line-tBLASTn-code\" data-toc-modified-id=\"Command-Line-tBLASTn-code-1.3\"><span class=\"toc-item-num\">1.3&nbsp;&nbsp;</span>Command Line tBLASTn code</a></span></li><li><span><a href=\"#Handling-BLAST-output\" data-toc-modified-id=\"Handling-BLAST-output-1.4\"><span class=\"toc-item-num\">1.4&nbsp;&nbsp;</span>Handling BLAST output</a></span></li><li><span><a href=\"#Comparison-of-orginal-(MaxQuant)-and-new-(tBLASTn)-results\" data-toc-modified-id=\"Comparison-of-orginal-(MaxQuant)-and-new-(tBLASTn)-results-1.5\"><span class=\"toc-item-num\">1.5&nbsp;&nbsp;</span>Comparison of orginal (MaxQuant) and new (tBLASTn) results</a></span></li></ul></li><li><span><a href=\"#Reveiwing-Mass-Spec-data-(MaxQuant)\" data-toc-modified-id=\"Reveiwing-Mass-Spec-data-(MaxQuant)-2\"><span class=\"toc-item-num\">2&nbsp;&nbsp;</span>Reveiwing Mass Spec data (MaxQuant)</a></span><ul class=\"toc-item\"><li><span><a href=\"#Retreiving-relevant-Information-for-new-protein-coding-genes\" data-toc-modified-id=\"Retreiving-relevant-Information-for-new-protein-coding-genes-2.1\"><span class=\"toc-item-num\">2.1&nbsp;&nbsp;</span>Retreiving relevant Information for new protein coding genes</a></span></li></ul></li></ul></div>"
   ]
  }
 ],
 "metadata": {
  "kernelspec": {
   "display_name": "Python 3",
   "language": "python",
   "name": "python3"
  },
  "language_info": {
   "codemirror_mode": {
    "name": "ipython",
    "version": 3
   },
   "file_extension": ".py",
   "mimetype": "text/x-python",
   "name": "python",
   "nbconvert_exporter": "python",
   "pygments_lexer": "ipython3",
   "version": "3.8.5"
  },
  "toc": {
   "base_numbering": 1,
   "nav_menu": {
    "height": "143px",
    "width": "458px"
   },
   "number_sections": true,
   "sideBar": true,
   "skip_h1_title": false,
   "title_cell": "Table of Contents",
   "title_sidebar": "Contents",
   "toc_cell": true,
   "toc_position": {
    "height": "calc(100% - 180px)",
    "left": "10px",
    "top": "150px",
    "width": "297px"
   },
   "toc_section_display": true,
   "toc_window_display": false
  }
 },
 "nbformat": 4,
 "nbformat_minor": 4
}
